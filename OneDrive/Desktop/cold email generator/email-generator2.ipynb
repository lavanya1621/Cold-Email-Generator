{
 "cells": [
  {
   "cell_type": "code",
   "execution_count": 3,
   "id": "8d22c556-c0fb-4b6a-a3e0-8c9dbab3832a",
   "metadata": {},
   "outputs": [],
   "source": [
    "from langchain_groq import ChatGroq"
   ]
  },
  {
   "cell_type": "code",
   "execution_count": 5,
   "id": "037e5b31-1a25-4d93-a910-62cbf7a2f135",
   "metadata": {},
   "outputs": [
    {
     "name": "stdout",
     "output_type": "stream",
     "text": [
      "walk on the Moon. Neil Armstrong became the first person to set foot on the Moon on July 20, 1969, during the Apollo 11 mission. His famous words upon stepping onto the lunar surface were: \"That's one small step for man, one giant leap for mankind.\"\n"
     ]
    }
   ],
   "source": [
    "llm= ChatGroq(\n",
    "    temperature=0,\n",
    "    groq_api_key='',\n",
    "    model_name=\"llama-3.1-70b-versatile\"\n",
    ")\n",
    "response = llm.invoke(\"Neil armstrong is the first person to\")\n",
    "print(response.content)\n"
   ]
  },
  {
   "cell_type": "code",
   "execution_count": 7,
   "id": "9d89b789-54f7-48ac-91e5-bcc3eaeae9e5",
   "metadata": {},
   "outputs": [
    {
     "name": "stderr",
     "output_type": "stream",
     "text": [
      "USER_AGENT environment variable not set, consider setting it to identify your requests.\n"
     ]
    },
    {
     "name": "stdout",
     "output_type": "stream",
     "text": [
      "Apply for Retail Department Manager - Winter Garden\n",
      "\n",
      "Search JobsSkip navigationSearch JobsNIKE, INC. JOBSContract JobsJoin The Talent CommunityLife @ NikeOverviewBenefitsBrandsOverviewJordanConverseTeamsOverviewAdministrative SupportAdvanced InnovationAir Manufacturing InnovationAviationCommunicationsCustomer ServiceDesignDigitalFacilitiesFinance & AccountingGovernment & Public AffairsHuman ResourcesInsights & AnalyticsLegalManufacturing & EngineeringMarketingMerchandisingPlanningPrivacyProcurementProduct Creation, Development & ManagementRetail CorporateRetail StoresSalesSocial & Community ImpactSports MarketingStrategic PlanningSupply Chain, Distribution & LogisticsSustainabilityTechnologyLocationsOverviewNike WHQNike New York HQEHQ: Hilversum, The NetherlandsELC: Laakdal, BelgiumGreater China HQDiversity, Equity & InclusionOverviewMilitary InclusionDisability InclusionIndigenous InclusionInternshipsRetail StoresRetail Department Manager - Winter GardenOrlando, FloridaBecome a Part of the NIKE, Inc. TeamNIKE, Inc. does more than outfit the world’s best athletes. It is a place to explore potential, obliterate boundaries and push out the edges of what can be. The company looks for people who can grow, think, dream and create. Its culture thrives by embracing diversity and rewarding imagination. The brand seeks achievers, leaders and visionaries. At NIKE, Inc. it’s about each person bringing skills and passion to a challenging and constantly evolving game.To work in retail is to be the face of NIKE, Inc. With a relentless focus on product knowledge and customer service, Nike Retail teams give valuable experiences to consumers every day. From Shanghai to San Francisco, every store has a unique perspective and hosts an inspiring community of sport and style devotees. A career in Nike Retail demands creativity and ambition and offers the opportunity to grow with some of the best athletes, teammates and retail partners in the industry.Nike Factory StoreWinter Garden, FloridaFull Time – 34-40 hours per week, including nights and weekendsBehind every great team is a great coach. That’s why when you join us as a Department Manager, we refer to you as a Coach. Join the NIKE Team as a Department Manager  As a Nike Department Manager, you’re the face of NIKE.  Enjoy high-volume and a fast pace as your diverse experience and perspective helps guide customers in making the best decisions for them.  You’ll work with your team to focus on customer service and get to the win the right way.   We believe that if you have a body, you are an athlete, and you’ll bring this to life with your passion for sport and customer service. This includes properly training your team and implementing our Service Principles while representing our global culture of sport, the NIKE brand, each other, and your community. You lead the charge of ensuring your team makes positive moments, has fun, and feels like they are a part of something bigger. As a Department Manager, you'll lead, coach, and inspire your team to deliver the best experience for their customers while ensuring your team members feel included and supported. You'll use your retail expertise to drive store growth strategies and create opportunities to continue building upon community partnerships. You are the one people look to for encouragement, leadership and bringing NIKE to life for our customers, communities, and colleagues. You will also enjoy benefits like employee discounts, healthcare, paid time off and education programs to develop and advance your career.      Putting Your Best Foot Forward Three years of customer-facing retail or hospitality experience One year of leadership experience  Demonstrated ability to recruit, build and lead high-performing teams Proficient in Microsoft Office and retail business systems  Ability to bend, squat, reach, climb a ladder and stand for extended periods of time with or without reasonable accommodations Proven ability to utilize tools for conflict resolution and employee coaching and counseling Able to work mornings, weekends, nights, and holidays as needed   What You're Responsible For Leading a team the helps keep all store functions running seamlessly.   Ensuring your store is staffed by attracting, assessing and onboarding your future teammates.   Equip store employees with tools needed to succeed in their day-to-day responsibilities.   Leading your store's team and business results/critical metrics, including budgeting, planning, a high level of customer service, sales, people leadership and management  Managing product life cycle from stockroom to visual merchandising and the sales floor.   Be Rewarded for a Job Well Done  Medical, Dental and Vision Insurance Health Savings Accounts and Flexible Savings Accounts after 12 months of continuous employment  401(k) Plan, CERA, Employee Assistance Program, Mental and Emotional Health, Financial Coaching and Education, Child Development Support and Caregiving Benefits starting on the day you're hired Accrued Paid Time Off and Holiday Pay  The opportunity to buy Nike stock at a discount through our Employee Stock Purchase Plan (ESPP)   Access to support through Optum Employee Assistance Program at no cost for you and your family Discounts for you and your family from Nike, Converse, and Jordan up to 50% off    NIKE, Inc. is committed to employing a diverse workforce. Qualified applicants will receive consideration without regard to race, color, religion, sex, national origin, age, sexual orientation, gender identity, gender expression, veteran status, or disability. For more information, please refer to Equal Employment Opportunity is The Law NIKE, Inc. is a growth company that looks for team members to grow with it. Nike offers a generous total rewards package, casual work environment, a diverse and inclusive culture, and an electric atmosphere for professional development. No matter the location, or the role, every Nike employee shares one galvanizing mission: To bring inspiration and innovation to every athlete* in the world.NIKE, Inc. is committed to employing a diverse workforce. Qualified applicants will receive consideration without regard to race, color, religion, sex, national origin, age, sexual orientation, gender identity, gender expression, veteran status, or disability.NIKE, Inc. is a growth company that looks for team members to grow with it. Nike offers a generous total rewards package, casual work environment, a diverse and inclusive culture, and an electric atmosphere for professional development. No matter the location, or the role, every Nike employee shares one galvanizing mission: To bring inspiration and innovation to every athlete* in the world.NIKE, Inc. is committed to employing a diverse workforce. Qualified applicants will receive consideration without regard to race, color, religion, sex, national origin, age, sexual orientation, gender identity, gender expression, veteran status, or disability.How We HireAt NIKE, Inc. we promise to provide a premium, inclusive, compelling and authentic candidate experience. Delivering on this promise means we allow you to be at your best — and to do that, you need to understand how the hiring process works. Transparency is key.\n",
      "\n",
      "* This overview explains our hiring process for corporate roles. Note there may be different hiring steps involved for non-corporate roles.Start nowBenefitsWhether it’s transportation or financial health, we continually invest in our employees to help them achieve greatness — inside and outside of work. All who work here should be able to realize their full potential.Employee Assistance ProgramHolidaysMedical PlanPaid Time Off (PTO)Product DiscountsLearn moreFIND A STOREBECOME A MEMBERSIGN UP FOR EMAILSEND US FEEDBACKSTUDENT DISCOUNTSGET HELPGET HELPOrder StatusDeliveryReturnsPayment OptionsContact Us On Nike.com InquiriesContact Us On All Other InquiriesABOUT NIKEABOUT NIKENewsCareersInvestorsSustainabilityIndia© 2024 Nike, Inc. All Rights ReservedGuidesNike AdaptNike Air MaxNike FlyleatherNike PegasusNike Zoom FlyNike AirNike FlyEaseNike FreeNike ReactNike ZoomXNike Air Force 1Nike FlyknitNike JoyrideNike VaporflyTerms of SaleTerms of UseNike Privacy Policy\n"
     ]
    }
   ],
   "source": [
    "from langchain_community.document_loaders import WebBaseLoader\n",
    "\n",
    "loader = WebBaseLoader(\"https://jobs.nike.com/job/R-46976?from=job%20search%20funnel\")\n",
    "page_data= loader.load().pop().page_content\n",
    "print(page_data)"
   ]
  },
  {
   "cell_type": "code",
   "execution_count": 9,
   "id": "68431415-964b-4c4e-8e2b-819f7509b063",
   "metadata": {},
   "outputs": [
    {
     "name": "stdout",
     "output_type": "stream",
     "text": [
      "```json\n",
      "{\n",
      "  \"role\": \"Retail Department Manager - Winter Garden\",\n",
      "  \"experience\": [\n",
      "    \"Three years of customer-facing retail or hospitality experience\",\n",
      "    \"One year of leadership experience\"\n",
      "  ],\n",
      "  \"skills\": [\n",
      "    \"Demonstrated ability to recruit, build and lead high-performing teams\",\n",
      "    \"Proficient in Microsoft Office and retail business systems\",\n",
      "    \"Ability to bend, squat, reach, climb a ladder and stand for extended periods of time with or without reasonable accommodations\",\n",
      "    \"Proven ability to utilize tools for conflict resolution and employee coaching and counseling\"\n",
      "  ],\n",
      "  \"description\": \"As a Nike Department Manager, you’re the face of NIKE. Enjoy high-volume and a fast pace as your diverse experience and perspective helps guide customers in making the best decisions for them. You’ll work with your team to focus on customer service and get to the win the right way. You’ll lead, coach, and inspire your team to deliver the best experience for their customers while ensuring your team members feel included and supported.\"\n",
      "}\n",
      "```\n"
     ]
    }
   ],
   "source": [
    "from langchain_core.prompts import PromptTemplate\n",
    "prompt_extract = PromptTemplate.from_template(\n",
    "    \"\"\"\n",
    "    ###SCRAPED TEXT FROM WEBSITE:\n",
    "    {page_data}\n",
    "    ### INSTRUCTION:\n",
    "    The scraped text is from the career's page of a website.\n",
    "    Your job is to extract the job postings and return them in JSON format containing the\n",
    "    following keys: 'role', 'experience', 'skills' and 'description'.\n",
    "    Only return the valid JSON.\n",
    "    ###VALID JSON(NO PREAMBLE):\n",
    "    \"\"\"\n",
    ")\n",
    "chain_extract= prompt_extract | llm\n",
    "res= chain_extract.invoke(input={'page_data':page_data})\n",
    "print(res.content)"
   ]
  },
  {
   "cell_type": "code",
   "execution_count": 11,
   "id": "a02ab016-060f-41c3-8e0c-080ea3466cb7",
   "metadata": {},
   "outputs": [
    {
     "data": {
      "text/plain": [
       "{'role': 'Retail Department Manager - Winter Garden',\n",
       " 'experience': ['Three years of customer-facing retail or hospitality experience',\n",
       "  'One year of leadership experience'],\n",
       " 'skills': ['Demonstrated ability to recruit, build and lead high-performing teams',\n",
       "  'Proficient in Microsoft Office and retail business systems',\n",
       "  'Ability to bend, squat, reach, climb a ladder and stand for extended periods of time with or without reasonable accommodations',\n",
       "  'Proven ability to utilize tools for conflict resolution and employee coaching and counseling'],\n",
       " 'description': 'As a Nike Department Manager, you’re the face of NIKE. Enjoy high-volume and a fast pace as your diverse experience and perspective helps guide customers in making the best decisions for them. You’ll work with your team to focus on customer service and get to the win the right way. You’ll lead, coach, and inspire your team to deliver the best experience for their customers while ensuring your team members feel included and supported.'}"
      ]
     },
     "execution_count": 11,
     "metadata": {},
     "output_type": "execute_result"
    }
   ],
   "source": [
    "from langchain_core.output_parsers import JsonOutputParser\n",
    "\n",
    "json_parser = JsonOutputParser()\n",
    "json_res = json_parser.parse(res.content)\n",
    "json_res"
   ]
  },
  {
   "cell_type": "code",
   "execution_count": 13,
   "id": "f4f45dec-3e58-431d-86b0-ea1d52424df9",
   "metadata": {},
   "outputs": [
    {
     "data": {
      "text/plain": [
       "dict"
      ]
     },
     "execution_count": 13,
     "metadata": {},
     "output_type": "execute_result"
    }
   ],
   "source": [
    "type(json_res)"
   ]
  },
  {
   "cell_type": "code",
   "execution_count": 17,
   "id": "91dc4807-5b96-4f46-98f2-497b314e60c5",
   "metadata": {},
   "outputs": [
    {
     "data": {
      "text/html": [
       "<div>\n",
       "<style scoped>\n",
       "    .dataframe tbody tr th:only-of-type {\n",
       "        vertical-align: middle;\n",
       "    }\n",
       "\n",
       "    .dataframe tbody tr th {\n",
       "        vertical-align: top;\n",
       "    }\n",
       "\n",
       "    .dataframe thead th {\n",
       "        text-align: right;\n",
       "    }\n",
       "</style>\n",
       "<table border=\"1\" class=\"dataframe\">\n",
       "  <thead>\n",
       "    <tr style=\"text-align: right;\">\n",
       "      <th></th>\n",
       "      <th>Techstack</th>\n",
       "      <th>Links</th>\n",
       "    </tr>\n",
       "  </thead>\n",
       "  <tbody>\n",
       "    <tr>\n",
       "      <th>0</th>\n",
       "      <td>React, Node.js, MongoDB</td>\n",
       "      <td>https://example.com/react-portfolio</td>\n",
       "    </tr>\n",
       "    <tr>\n",
       "      <th>1</th>\n",
       "      <td>Angular,.NET, SQL Server</td>\n",
       "      <td>https://example.com/angular-portfolio</td>\n",
       "    </tr>\n",
       "    <tr>\n",
       "      <th>2</th>\n",
       "      <td>Vue.js, Ruby on Rails, PostgreSQL</td>\n",
       "      <td>https://example.com/vue-portfolio</td>\n",
       "    </tr>\n",
       "    <tr>\n",
       "      <th>3</th>\n",
       "      <td>Python, Django, MySQL</td>\n",
       "      <td>https://example.com/python-portfolio</td>\n",
       "    </tr>\n",
       "    <tr>\n",
       "      <th>4</th>\n",
       "      <td>Java, Spring Boot, Oracle</td>\n",
       "      <td>https://example.com/java-portfolio</td>\n",
       "    </tr>\n",
       "    <tr>\n",
       "      <th>5</th>\n",
       "      <td>Flutter, Firebase, GraphQL</td>\n",
       "      <td>https://example.com/flutter-portfolio</td>\n",
       "    </tr>\n",
       "    <tr>\n",
       "      <th>6</th>\n",
       "      <td>WordPress, PHP, MySQL</td>\n",
       "      <td>https://example.com/wordpress-portfolio</td>\n",
       "    </tr>\n",
       "    <tr>\n",
       "      <th>7</th>\n",
       "      <td>Magento, PHP, MySQL</td>\n",
       "      <td>https://example.com/magento-portfolio</td>\n",
       "    </tr>\n",
       "    <tr>\n",
       "      <th>8</th>\n",
       "      <td>React Native, Node.js, MongoDB</td>\n",
       "      <td>https://example.com/react-native-portfolio</td>\n",
       "    </tr>\n",
       "    <tr>\n",
       "      <th>9</th>\n",
       "      <td>iOS, Swift, Core Data</td>\n",
       "      <td>https://example.com/ios-portfolio</td>\n",
       "    </tr>\n",
       "    <tr>\n",
       "      <th>10</th>\n",
       "      <td>Android, Java, Room Persistence</td>\n",
       "      <td>https://example.com/android-portfolio</td>\n",
       "    </tr>\n",
       "    <tr>\n",
       "      <th>11</th>\n",
       "      <td>Kotlin, Android, Firebase</td>\n",
       "      <td>https://example.com/kotlin-android-portfolio</td>\n",
       "    </tr>\n",
       "    <tr>\n",
       "      <th>12</th>\n",
       "      <td>Android TV, Kotlin, Android NDK</td>\n",
       "      <td>https://example.com/android-tv-portfolio</td>\n",
       "    </tr>\n",
       "    <tr>\n",
       "      <th>13</th>\n",
       "      <td>iOS, Swift, ARKit</td>\n",
       "      <td>https://example.com/ios-ar-portfolio</td>\n",
       "    </tr>\n",
       "    <tr>\n",
       "      <th>14</th>\n",
       "      <td>Cross-platform, Xamarin, Azure</td>\n",
       "      <td>https://example.com/xamarin-portfolio</td>\n",
       "    </tr>\n",
       "    <tr>\n",
       "      <th>15</th>\n",
       "      <td>Backend, Kotlin, Spring Boot</td>\n",
       "      <td>https://example.com/kotlin-backend-portfolio</td>\n",
       "    </tr>\n",
       "    <tr>\n",
       "      <th>16</th>\n",
       "      <td>Frontend, TypeScript, Angular</td>\n",
       "      <td>https://example.com/typescript-frontend-portfolio</td>\n",
       "    </tr>\n",
       "    <tr>\n",
       "      <th>17</th>\n",
       "      <td>Full-stack, JavaScript, Express.js</td>\n",
       "      <td>https://example.com/full-stack-js-portfolio</td>\n",
       "    </tr>\n",
       "    <tr>\n",
       "      <th>18</th>\n",
       "      <td>Machine Learning, Python, TensorFlow</td>\n",
       "      <td>https://example.com/ml-python-portfolio</td>\n",
       "    </tr>\n",
       "    <tr>\n",
       "      <th>19</th>\n",
       "      <td>DevOps, Jenkins, Docker</td>\n",
       "      <td>https://example.com/devops-portfolio</td>\n",
       "    </tr>\n",
       "  </tbody>\n",
       "</table>\n",
       "</div>"
      ],
      "text/plain": [
       "                               Techstack  \\\n",
       "0                React, Node.js, MongoDB   \n",
       "1               Angular,.NET, SQL Server   \n",
       "2      Vue.js, Ruby on Rails, PostgreSQL   \n",
       "3                  Python, Django, MySQL   \n",
       "4              Java, Spring Boot, Oracle   \n",
       "5             Flutter, Firebase, GraphQL   \n",
       "6                  WordPress, PHP, MySQL   \n",
       "7                    Magento, PHP, MySQL   \n",
       "8         React Native, Node.js, MongoDB   \n",
       "9                  iOS, Swift, Core Data   \n",
       "10       Android, Java, Room Persistence   \n",
       "11             Kotlin, Android, Firebase   \n",
       "12       Android TV, Kotlin, Android NDK   \n",
       "13                     iOS, Swift, ARKit   \n",
       "14        Cross-platform, Xamarin, Azure   \n",
       "15          Backend, Kotlin, Spring Boot   \n",
       "16         Frontend, TypeScript, Angular   \n",
       "17    Full-stack, JavaScript, Express.js   \n",
       "18  Machine Learning, Python, TensorFlow   \n",
       "19               DevOps, Jenkins, Docker   \n",
       "\n",
       "                                                Links  \n",
       "0                 https://example.com/react-portfolio  \n",
       "1               https://example.com/angular-portfolio  \n",
       "2                   https://example.com/vue-portfolio  \n",
       "3                https://example.com/python-portfolio  \n",
       "4                  https://example.com/java-portfolio  \n",
       "5               https://example.com/flutter-portfolio  \n",
       "6             https://example.com/wordpress-portfolio  \n",
       "7               https://example.com/magento-portfolio  \n",
       "8          https://example.com/react-native-portfolio  \n",
       "9                   https://example.com/ios-portfolio  \n",
       "10              https://example.com/android-portfolio  \n",
       "11       https://example.com/kotlin-android-portfolio  \n",
       "12           https://example.com/android-tv-portfolio  \n",
       "13               https://example.com/ios-ar-portfolio  \n",
       "14              https://example.com/xamarin-portfolio  \n",
       "15       https://example.com/kotlin-backend-portfolio  \n",
       "16  https://example.com/typescript-frontend-portfolio  \n",
       "17        https://example.com/full-stack-js-portfolio  \n",
       "18            https://example.com/ml-python-portfolio  \n",
       "19               https://example.com/devops-portfolio  "
      ]
     },
     "execution_count": 17,
     "metadata": {},
     "output_type": "execute_result"
    }
   ],
   "source": [
    "import pandas as pd\n",
    "df=pd.read_csv(\"my_portfolio.csv\")\n",
    "df"
   ]
  },
  {
   "cell_type": "code",
   "execution_count": 19,
   "id": "d1cfc3f7-8a88-41fb-a443-baac77c6a166",
   "metadata": {},
   "outputs": [],
   "source": [
    "import chromadb\n",
    "import uuid\n",
    "\n",
    "\n",
    "client = chromadb.PersistentClient('vectorstore')\n",
    "collection = client.get_or_create_collection(name=\"portfolio\")\n",
    "\n",
    "if not collection.count():\n",
    "    for _, row in df.iterrows():\n",
    "        collection.add(documents=row[\"Techstack\"],\n",
    "                       metadatas={\"links\": row[\"Links\"]},\n",
    "                       ids=[str(uuid.uuid4())])\n",
    "                       \n",
    "\n"
   ]
  },
  {
   "cell_type": "code",
   "execution_count": 21,
   "id": "3a978fe5-4923-4c7c-997a-e5eb9faddd6e",
   "metadata": {},
   "outputs": [
    {
     "name": "stdout",
     "output_type": "stream",
     "text": [
      "[[{'links': 'https://example.com/ml-python-portfolio'}, {'links': 'https://example.com/python-portfolio'}, {'links': 'https://example.com/magento-portfolio'}, {'links': 'https://example.com/wordpress-portfolio'}, {'links': 'https://example.com/devops-portfolio'}], [{'links': 'https://example.com/react-portfolio'}, {'links': 'https://example.com/react-native-portfolio'}, {'links': 'https://example.com/full-stack-js-portfolio'}, {'links': 'https://example.com/typescript-frontend-portfolio'}, {'links': 'https://example.com/ml-python-portfolio'}]]\n"
     ]
    }
   ],
   "source": [
    "results = collection.query(query_texts=[\"Experience in Python\", \"Expertise in React\"], n_results=5)\n",
    "\n",
    "# Checking if the results contain metadata and printing it\n",
    "if results and \"metadatas\" in results:\n",
    "    links = results[\"metadatas\"]\n",
    "    print(links)\n",
    "else:\n",
    "    print(\"No metadata found.\")"
   ]
  },
  {
   "cell_type": "code",
   "execution_count": 23,
   "id": "7755e3e9-a3f6-41f6-94ec-9eda3fb7c85b",
   "metadata": {},
   "outputs": [
    {
     "data": {
      "text/plain": [
       "['Demonstrated ability to recruit, build and lead high-performing teams',\n",
       " 'Proficient in Microsoft Office and retail business systems',\n",
       " 'Ability to bend, squat, reach, climb a ladder and stand for extended periods of time with or without reasonable accommodations',\n",
       " 'Proven ability to utilize tools for conflict resolution and employee coaching and counseling']"
      ]
     },
     "execution_count": 23,
     "metadata": {},
     "output_type": "execute_result"
    }
   ],
   "source": [
    "job= json_res\n",
    "job['skills']\n"
   ]
  },
  {
   "cell_type": "code",
   "execution_count": 25,
   "id": "820bb525-7600-479d-96fa-1213619ecc72",
   "metadata": {},
   "outputs": [
    {
     "name": "stdout",
     "output_type": "stream",
     "text": [
      "Subject: Revolutionize Your Retail Operations with Beach and Coffee Co.\n",
      "\n",
      "Dear Hiring Manager,\n",
      "\n",
      "I came across the Retail Department Manager role at Nike and was impressed by the emphasis on exceptional customer service and team leadership. As a Business Development Executive at Beach and Coffee Co., I believe our expertise in AI and software solutions can help elevate your retail operations to the next level.\n",
      "\n",
      "Our company specializes in seamless integration of business processes through automated technologies. We've worked with various clients to streamline their operations, enhance customer experience, and increase efficiency. I'd like to highlight a few relevant projects from our portfolio that demonstrate our capabilities:\n",
      "\n",
      "* Our expertise in Python development can help you build custom retail management systems, as seen in our Python portfolio: https://example.com/python-portfolio\n",
      "* We've also developed Magento solutions for e-commerce clients, which can be applied to your retail operations: https://example.com/magento-portfolio\n",
      "* Our experience in DevOps can help you optimize your retail systems and ensure smooth operations: https://example.com/devops-portfolio\n",
      "\n",
      "By partnering with Beach and Coffee Co., you can:\n",
      "\n",
      "* Enhance customer experience through personalized recommendations and efficient service\n",
      "* Improve team performance through data-driven insights and coaching tools\n",
      "* Increase operational efficiency through automated processes and streamlined workflows\n",
      "\n",
      "I'd love to discuss how our solutions can address your specific needs and challenges. Please let me know if you're interested in scheduling a call to explore further.\n",
      "\n",
      "Best regards,\n",
      "\n",
      "Lova\n",
      "Business Development Executive\n",
      "Beach and Coffee Co.\n"
     ]
    }
   ],
   "source": [
    "prompt_email= PromptTemplate.from_template(\n",
    "    \"\"\"\n",
    "    ###JOB DESCRIPTION:\n",
    "    {job_description}\n",
    "\n",
    "    ###INSTRUCTION:\n",
    "    You are Lova, a business development executive at Beach and Coffee Co. It is an AI and software company seamless integration\n",
    "    of business processes through automated technologies.\n",
    "    Your job is to write a cold email to the client regarding the job mentioned above to fulfill their needs.\n",
    "    also add most relevant ones from the  following links to showcase Beach and Cofee Co. portfolio: {link_list}\n",
    "    Remember u are Lova,  A BDE AT BEACH AND COFFEE CO.\n",
    "    dont need preamble\n",
    "\n",
    "    ###EMAIL (NO PREAMBLE):\n",
    "    \"\"\"\n",
    ")\n",
    "\n",
    "chain_email= prompt_email | llm\n",
    "res = chain_email.invoke({\"job_description\" : str(job), \"link_list\": links})\n",
    "print(res.content)\n"
   ]
  },
  {
   "cell_type": "code",
   "execution_count": null,
   "id": "dafbe6ae-7fac-4285-86a8-ee4ae1976922",
   "metadata": {},
   "outputs": [],
   "source": []
  }
 ],
 "metadata": {
  "kernelspec": {
   "display_name": "Python 3 (ipykernel)",
   "language": "python",
   "name": "python3"
  },
  "language_info": {
   "codemirror_mode": {
    "name": "ipython",
    "version": 3
   },
   "file_extension": ".py",
   "mimetype": "text/x-python",
   "name": "python",
   "nbconvert_exporter": "python",
   "pygments_lexer": "ipython3",
   "version": "3.12.4"
  }
 },
 "nbformat": 4,
 "nbformat_minor": 5
}
